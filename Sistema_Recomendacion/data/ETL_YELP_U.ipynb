{
 "cells": [
  {
   "cell_type": "code",
   "execution_count": 2,
   "metadata": {},
   "outputs": [],
   "source": [
    "import pandas as pd\n",
    "# Cargar el DataFrame desde el archivo CSV\n",
    "df = pd.read_csv('ETL_YELP_con_sentimientos.csv')\n",
    "\n",
    "# Eliminar duplicados basándote en la columna 'Name'\n",
    "df_unique = df.drop_duplicates(subset=['Business_id'])\n",
    "\n",
    "# Guardar el nuevo DataFrame en un nuevo archivo CSV\n",
    "df_unique.to_csv('ETL_YELP_con_sentimientos_unicos.csv', index=False)\n"
   ]
  }
 ],
 "metadata": {
  "kernelspec": {
   "display_name": "restaurantemex",
   "language": "python",
   "name": "python3"
  },
  "language_info": {
   "codemirror_mode": {
    "name": "ipython",
    "version": 3
   },
   "file_extension": ".py",
   "mimetype": "text/x-python",
   "name": "python",
   "nbconvert_exporter": "python",
   "pygments_lexer": "ipython3",
   "version": "3.10.11"
  }
 },
 "nbformat": 4,
 "nbformat_minor": 2
}

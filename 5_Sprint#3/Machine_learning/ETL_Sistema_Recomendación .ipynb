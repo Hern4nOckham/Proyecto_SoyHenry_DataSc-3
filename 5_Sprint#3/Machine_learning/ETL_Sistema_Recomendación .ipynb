{
 "cells": [
  {
   "cell_type": "code",
   "execution_count": 1,
   "id": "3eb26e15",
   "metadata": {},
   "outputs": [],
   "source": [
    "# Importamos las bibliotecas necesarias\n",
    "import pandas as pd\n",
    "from datetime import datetime, date"
   ]
  },
  {
   "cell_type": "code",
   "execution_count": 2,
   "id": "3a66901e",
   "metadata": {},
   "outputs": [],
   "source": [
    "df = pd.read_csv('./ETL_YELP_AllState.csv')"
   ]
  },
  {
   "cell_type": "code",
   "execution_count": 3,
   "id": "e63d0717",
   "metadata": {
    "scrolled": true
   },
   "outputs": [
    {
     "data": {
      "text/html": [
       "<div>\n",
       "<style scoped>\n",
       "    .dataframe tbody tr th:only-of-type {\n",
       "        vertical-align: middle;\n",
       "    }\n",
       "\n",
       "    .dataframe tbody tr th {\n",
       "        vertical-align: top;\n",
       "    }\n",
       "\n",
       "    .dataframe thead th {\n",
       "        text-align: right;\n",
       "    }\n",
       "</style>\n",
       "<table border=\"1\" class=\"dataframe\">\n",
       "  <thead>\n",
       "    <tr style=\"text-align: right;\">\n",
       "      <th></th>\n",
       "      <th>Business_id</th>\n",
       "      <th>Name</th>\n",
       "      <th>Categories</th>\n",
       "      <th>Stars</th>\n",
       "      <th>Text</th>\n",
       "      <th>Useful</th>\n",
       "      <th>Funny</th>\n",
       "      <th>Cool</th>\n",
       "      <th>Date</th>\n",
       "      <th>User_id</th>\n",
       "      <th>City</th>\n",
       "      <th>State</th>\n",
       "      <th>Latitude</th>\n",
       "      <th>Longitude</th>\n",
       "      <th>Address</th>\n",
       "    </tr>\n",
       "  </thead>\n",
       "  <tbody>\n",
       "    <tr>\n",
       "      <th>0</th>\n",
       "      <td>yS0TsUzKBQlHQCZZeBrxww</td>\n",
       "      <td>Tortas El Guero</td>\n",
       "      <td>Mexican, Sandwiches, Restaurants</td>\n",
       "      <td>5.0</td>\n",
       "      <td>Hands down best Mexican in Indy! This place al...</td>\n",
       "      <td>0</td>\n",
       "      <td>0</td>\n",
       "      <td>0</td>\n",
       "      <td>2019-03-21</td>\n",
       "      <td>4K_WOyp5edBa9-JtMjxiwQ</td>\n",
       "      <td>Indianapolis</td>\n",
       "      <td>IN</td>\n",
       "      <td>39.824485</td>\n",
       "      <td>-86.270933</td>\n",
       "      <td>3818 N Highschool Rd</td>\n",
       "    </tr>\n",
       "    <tr>\n",
       "      <th>1</th>\n",
       "      <td>yS0TsUzKBQlHQCZZeBrxww</td>\n",
       "      <td>Tortas El Guero</td>\n",
       "      <td>Mexican, Sandwiches, Restaurants</td>\n",
       "      <td>5.0</td>\n",
       "      <td>After reading all the reviews &amp; hearing great ...</td>\n",
       "      <td>1</td>\n",
       "      <td>0</td>\n",
       "      <td>1</td>\n",
       "      <td>2019-04-20</td>\n",
       "      <td>opsegPYOBbMrULOm7QpkJw</td>\n",
       "      <td>Indianapolis</td>\n",
       "      <td>IN</td>\n",
       "      <td>39.824485</td>\n",
       "      <td>-86.270933</td>\n",
       "      <td>3818 N Highschool Rd</td>\n",
       "    </tr>\n",
       "  </tbody>\n",
       "</table>\n",
       "</div>"
      ],
      "text/plain": [
       "              Business_id             Name                        Categories  \\\n",
       "0  yS0TsUzKBQlHQCZZeBrxww  Tortas El Guero  Mexican, Sandwiches, Restaurants   \n",
       "1  yS0TsUzKBQlHQCZZeBrxww  Tortas El Guero  Mexican, Sandwiches, Restaurants   \n",
       "\n",
       "   Stars                                               Text  Useful  Funny  \\\n",
       "0    5.0  Hands down best Mexican in Indy! This place al...       0      0   \n",
       "1    5.0  After reading all the reviews & hearing great ...       1      0   \n",
       "\n",
       "   Cool        Date                 User_id          City State   Latitude  \\\n",
       "0     0  2019-03-21  4K_WOyp5edBa9-JtMjxiwQ  Indianapolis    IN  39.824485   \n",
       "1     1  2019-04-20  opsegPYOBbMrULOm7QpkJw  Indianapolis    IN  39.824485   \n",
       "\n",
       "   Longitude               Address  \n",
       "0 -86.270933  3818 N Highschool Rd  \n",
       "1 -86.270933  3818 N Highschool Rd  "
      ]
     },
     "execution_count": 3,
     "metadata": {},
     "output_type": "execute_result"
    }
   ],
   "source": [
    "df.head(2)"
   ]
  },
  {
   "cell_type": "code",
   "execution_count": 4,
   "id": "89268ed3",
   "metadata": {},
   "outputs": [
    {
     "data": {
      "text/plain": [
       "FL    26734\n",
       "PA    19289\n",
       "AZ    18724\n",
       "TN    14414\n",
       "IN    14271\n",
       "NV    11806\n",
       "CA    10345\n",
       "MO     8521\n",
       "LA     7577\n",
       "NJ     4086\n",
       "ID     3907\n",
       "DE     1575\n",
       "IL     1273\n",
       "Name: State, dtype: int64"
      ]
     },
     "execution_count": 4,
     "metadata": {},
     "output_type": "execute_result"
    }
   ],
   "source": [
    "df['State'].value_counts()"
   ]
  },
  {
   "cell_type": "code",
   "execution_count": 5,
   "id": "b90c3e6f",
   "metadata": {},
   "outputs": [
    {
     "name": "stdout",
     "output_type": "stream",
     "text": [
      "<class 'pandas.core.frame.DataFrame'>\n",
      "RangeIndex: 142522 entries, 0 to 142521\n",
      "Data columns (total 15 columns):\n",
      " #   Column       Non-Null Count   Dtype  \n",
      "---  ------       --------------   -----  \n",
      " 0   Business_id  142522 non-null  object \n",
      " 1   Name         142522 non-null  object \n",
      " 2   Categories   142522 non-null  object \n",
      " 3   Stars        142522 non-null  float64\n",
      " 4   Text         142522 non-null  object \n",
      " 5   Useful       142522 non-null  int64  \n",
      " 6   Funny        142522 non-null  int64  \n",
      " 7   Cool         142522 non-null  int64  \n",
      " 8   Date         142522 non-null  object \n",
      " 9   User_id      142522 non-null  object \n",
      " 10  City         142522 non-null  object \n",
      " 11  State        142522 non-null  object \n",
      " 12  Latitude     142522 non-null  float64\n",
      " 13  Longitude    142522 non-null  float64\n",
      " 14  Address      142020 non-null  object \n",
      "dtypes: float64(3), int64(3), object(9)\n",
      "memory usage: 16.3+ MB\n"
     ]
    }
   ],
   "source": [
    "df.info()"
   ]
  },
  {
   "cell_type": "code",
   "execution_count": 6,
   "id": "fb8fd96c",
   "metadata": {},
   "outputs": [],
   "source": [
    "def convert_to_datetime(date_string):\n",
    "    return datetime.strptime(date_string,'%Y-%m-%d')\n",
    "df['Date'] = df['Date'].apply(convert_to_datetime)"
   ]
  },
  {
   "cell_type": "code",
   "execution_count": 7,
   "id": "8bcdbb0e",
   "metadata": {},
   "outputs": [],
   "source": [
    "# Aplicamos los respectivos metodos\n",
    "df['Year'] = df['Date'].dt.year\n",
    "df['Trimestre'] = df['Date'].dt.quarter\n",
    "df['Mes'] = df['Date'].dt.month"
   ]
  },
  {
   "cell_type": "code",
   "execution_count": 8,
   "id": "465dc271",
   "metadata": {},
   "outputs": [
    {
     "data": {
      "text/html": [
       "<div>\n",
       "<style scoped>\n",
       "    .dataframe tbody tr th:only-of-type {\n",
       "        vertical-align: middle;\n",
       "    }\n",
       "\n",
       "    .dataframe tbody tr th {\n",
       "        vertical-align: top;\n",
       "    }\n",
       "\n",
       "    .dataframe thead th {\n",
       "        text-align: right;\n",
       "    }\n",
       "</style>\n",
       "<table border=\"1\" class=\"dataframe\">\n",
       "  <thead>\n",
       "    <tr style=\"text-align: right;\">\n",
       "      <th></th>\n",
       "      <th>Business_id</th>\n",
       "      <th>Name</th>\n",
       "      <th>Categories</th>\n",
       "      <th>Stars</th>\n",
       "      <th>Text</th>\n",
       "      <th>Useful</th>\n",
       "      <th>Funny</th>\n",
       "      <th>Cool</th>\n",
       "      <th>Date</th>\n",
       "      <th>User_id</th>\n",
       "      <th>City</th>\n",
       "      <th>State</th>\n",
       "      <th>Latitude</th>\n",
       "      <th>Longitude</th>\n",
       "      <th>Address</th>\n",
       "      <th>Year</th>\n",
       "      <th>Trimestre</th>\n",
       "      <th>Mes</th>\n",
       "    </tr>\n",
       "  </thead>\n",
       "  <tbody>\n",
       "    <tr>\n",
       "      <th>0</th>\n",
       "      <td>yS0TsUzKBQlHQCZZeBrxww</td>\n",
       "      <td>Tortas El Guero</td>\n",
       "      <td>Mexican, Sandwiches, Restaurants</td>\n",
       "      <td>5.0</td>\n",
       "      <td>Hands down best Mexican in Indy! This place al...</td>\n",
       "      <td>0</td>\n",
       "      <td>0</td>\n",
       "      <td>0</td>\n",
       "      <td>2019-03-21</td>\n",
       "      <td>4K_WOyp5edBa9-JtMjxiwQ</td>\n",
       "      <td>Indianapolis</td>\n",
       "      <td>IN</td>\n",
       "      <td>39.824485</td>\n",
       "      <td>-86.270933</td>\n",
       "      <td>3818 N Highschool Rd</td>\n",
       "      <td>2019</td>\n",
       "      <td>1</td>\n",
       "      <td>3</td>\n",
       "    </tr>\n",
       "  </tbody>\n",
       "</table>\n",
       "</div>"
      ],
      "text/plain": [
       "              Business_id             Name                        Categories  \\\n",
       "0  yS0TsUzKBQlHQCZZeBrxww  Tortas El Guero  Mexican, Sandwiches, Restaurants   \n",
       "\n",
       "   Stars                                               Text  Useful  Funny  \\\n",
       "0    5.0  Hands down best Mexican in Indy! This place al...       0      0   \n",
       "\n",
       "   Cool       Date                 User_id          City State   Latitude  \\\n",
       "0     0 2019-03-21  4K_WOyp5edBa9-JtMjxiwQ  Indianapolis    IN  39.824485   \n",
       "\n",
       "   Longitude               Address  Year  Trimestre  Mes  \n",
       "0 -86.270933  3818 N Highschool Rd  2019          1    3  "
      ]
     },
     "execution_count": 8,
     "metadata": {},
     "output_type": "execute_result"
    }
   ],
   "source": [
    "# Verificamos la creación de las mencionadas columnas\n",
    "df.head(1)"
   ]
  },
  {
   "cell_type": "code",
   "execution_count": 9,
   "id": "bacef59a",
   "metadata": {},
   "outputs": [],
   "source": [
    "# Convertimos la columna Mes que es numérico, en palabra\n",
    "mes = {1:'Enero',2:'Febrero',3:'Marzo',4:'Abril',5:'Mayo',6:'Junio',7:'Julio',8:'Agosto',9:'Septiembre',10:'Octubre',11:'Noviembre',12:'Diciembre'}\n",
    "df.Mes = df.Mes.map(mes)"
   ]
  },
  {
   "cell_type": "code",
   "execution_count": 10,
   "id": "a26a1ea0",
   "metadata": {},
   "outputs": [
    {
     "data": {
      "text/html": [
       "<div>\n",
       "<style scoped>\n",
       "    .dataframe tbody tr th:only-of-type {\n",
       "        vertical-align: middle;\n",
       "    }\n",
       "\n",
       "    .dataframe tbody tr th {\n",
       "        vertical-align: top;\n",
       "    }\n",
       "\n",
       "    .dataframe thead th {\n",
       "        text-align: right;\n",
       "    }\n",
       "</style>\n",
       "<table border=\"1\" class=\"dataframe\">\n",
       "  <thead>\n",
       "    <tr style=\"text-align: right;\">\n",
       "      <th></th>\n",
       "      <th>Business_id</th>\n",
       "      <th>Name</th>\n",
       "      <th>Categories</th>\n",
       "      <th>Stars</th>\n",
       "      <th>Text</th>\n",
       "      <th>Useful</th>\n",
       "      <th>Funny</th>\n",
       "      <th>Cool</th>\n",
       "      <th>Date</th>\n",
       "      <th>User_id</th>\n",
       "      <th>City</th>\n",
       "      <th>State</th>\n",
       "      <th>Latitude</th>\n",
       "      <th>Longitude</th>\n",
       "      <th>Address</th>\n",
       "      <th>Year</th>\n",
       "      <th>Trimestre</th>\n",
       "      <th>Mes</th>\n",
       "    </tr>\n",
       "  </thead>\n",
       "  <tbody>\n",
       "    <tr>\n",
       "      <th>0</th>\n",
       "      <td>yS0TsUzKBQlHQCZZeBrxww</td>\n",
       "      <td>Tortas El Guero</td>\n",
       "      <td>Mexican, Sandwiches, Restaurants</td>\n",
       "      <td>5.0</td>\n",
       "      <td>Hands down best Mexican in Indy! This place al...</td>\n",
       "      <td>0</td>\n",
       "      <td>0</td>\n",
       "      <td>0</td>\n",
       "      <td>2019-03-21</td>\n",
       "      <td>4K_WOyp5edBa9-JtMjxiwQ</td>\n",
       "      <td>Indianapolis</td>\n",
       "      <td>IN</td>\n",
       "      <td>39.824485</td>\n",
       "      <td>-86.270933</td>\n",
       "      <td>3818 N Highschool Rd</td>\n",
       "      <td>2019</td>\n",
       "      <td>1</td>\n",
       "      <td>Marzo</td>\n",
       "    </tr>\n",
       "    <tr>\n",
       "      <th>1</th>\n",
       "      <td>yS0TsUzKBQlHQCZZeBrxww</td>\n",
       "      <td>Tortas El Guero</td>\n",
       "      <td>Mexican, Sandwiches, Restaurants</td>\n",
       "      <td>5.0</td>\n",
       "      <td>After reading all the reviews &amp; hearing great ...</td>\n",
       "      <td>1</td>\n",
       "      <td>0</td>\n",
       "      <td>1</td>\n",
       "      <td>2019-04-20</td>\n",
       "      <td>opsegPYOBbMrULOm7QpkJw</td>\n",
       "      <td>Indianapolis</td>\n",
       "      <td>IN</td>\n",
       "      <td>39.824485</td>\n",
       "      <td>-86.270933</td>\n",
       "      <td>3818 N Highschool Rd</td>\n",
       "      <td>2019</td>\n",
       "      <td>2</td>\n",
       "      <td>Abril</td>\n",
       "    </tr>\n",
       "    <tr>\n",
       "      <th>2</th>\n",
       "      <td>yS0TsUzKBQlHQCZZeBrxww</td>\n",
       "      <td>Tortas El Guero</td>\n",
       "      <td>Mexican, Sandwiches, Restaurants</td>\n",
       "      <td>4.0</td>\n",
       "      <td>First time here, had decent reviews so I wante...</td>\n",
       "      <td>2</td>\n",
       "      <td>0</td>\n",
       "      <td>0</td>\n",
       "      <td>2019-02-08</td>\n",
       "      <td>da1by_dHiaH7WziqVjCnAQ</td>\n",
       "      <td>Indianapolis</td>\n",
       "      <td>IN</td>\n",
       "      <td>39.824485</td>\n",
       "      <td>-86.270933</td>\n",
       "      <td>3818 N Highschool Rd</td>\n",
       "      <td>2019</td>\n",
       "      <td>1</td>\n",
       "      <td>Febrero</td>\n",
       "    </tr>\n",
       "  </tbody>\n",
       "</table>\n",
       "</div>"
      ],
      "text/plain": [
       "              Business_id             Name                        Categories  \\\n",
       "0  yS0TsUzKBQlHQCZZeBrxww  Tortas El Guero  Mexican, Sandwiches, Restaurants   \n",
       "1  yS0TsUzKBQlHQCZZeBrxww  Tortas El Guero  Mexican, Sandwiches, Restaurants   \n",
       "2  yS0TsUzKBQlHQCZZeBrxww  Tortas El Guero  Mexican, Sandwiches, Restaurants   \n",
       "\n",
       "   Stars                                               Text  Useful  Funny  \\\n",
       "0    5.0  Hands down best Mexican in Indy! This place al...       0      0   \n",
       "1    5.0  After reading all the reviews & hearing great ...       1      0   \n",
       "2    4.0  First time here, had decent reviews so I wante...       2      0   \n",
       "\n",
       "   Cool       Date                 User_id          City State   Latitude  \\\n",
       "0     0 2019-03-21  4K_WOyp5edBa9-JtMjxiwQ  Indianapolis    IN  39.824485   \n",
       "1     1 2019-04-20  opsegPYOBbMrULOm7QpkJw  Indianapolis    IN  39.824485   \n",
       "2     0 2019-02-08  da1by_dHiaH7WziqVjCnAQ  Indianapolis    IN  39.824485   \n",
       "\n",
       "   Longitude               Address  Year  Trimestre      Mes  \n",
       "0 -86.270933  3818 N Highschool Rd  2019          1    Marzo  \n",
       "1 -86.270933  3818 N Highschool Rd  2019          2    Abril  \n",
       "2 -86.270933  3818 N Highschool Rd  2019          1  Febrero  "
      ]
     },
     "execution_count": 10,
     "metadata": {},
     "output_type": "execute_result"
    }
   ],
   "source": [
    "# Verificamos la correcta creación \n",
    "df.head(3)"
   ]
  },
  {
   "cell_type": "code",
   "execution_count": 11,
   "id": "49c9f10c",
   "metadata": {},
   "outputs": [],
   "source": [
    "#df.to_csv('Yelp_Final.csv',index=False)"
   ]
  },
  {
   "cell_type": "markdown",
   "id": "8ca12c60",
   "metadata": {},
   "source": [
    "## `Ahora abordamos los KPIs propuestos`.\n",
    "### `Citando los objetivos específicos a lo largo de los años 2020 al 2021:`\n",
    "* Crecer un 2 % en la cantidad de restaurantes de comidas mexicanas por trimestre por estado.\n",
    "* Crecer un 3 % en las calificaciones iguales o mayores a tres estrellas por trimestre por estado.\n",
    "* Reducir a un 5 % las calificaciones menores a tres estrellas por trimestre por estado."
   ]
  },
  {
   "cell_type": "code",
   "execution_count": 12,
   "id": "4c10414b",
   "metadata": {},
   "outputs": [
    {
     "data": {
      "text/html": [
       "<div>\n",
       "<style scoped>\n",
       "    .dataframe tbody tr th:only-of-type {\n",
       "        vertical-align: middle;\n",
       "    }\n",
       "\n",
       "    .dataframe tbody tr th {\n",
       "        vertical-align: top;\n",
       "    }\n",
       "\n",
       "    .dataframe thead th {\n",
       "        text-align: right;\n",
       "    }\n",
       "</style>\n",
       "<table border=\"1\" class=\"dataframe\">\n",
       "  <thead>\n",
       "    <tr style=\"text-align: right;\">\n",
       "      <th></th>\n",
       "      <th>Business_id</th>\n",
       "      <th>Name</th>\n",
       "      <th>Categories</th>\n",
       "      <th>Stars</th>\n",
       "      <th>Text</th>\n",
       "      <th>Useful</th>\n",
       "      <th>Funny</th>\n",
       "      <th>Cool</th>\n",
       "      <th>Date</th>\n",
       "      <th>User_id</th>\n",
       "      <th>City</th>\n",
       "      <th>State</th>\n",
       "      <th>Latitude</th>\n",
       "      <th>Longitude</th>\n",
       "      <th>Address</th>\n",
       "      <th>Year</th>\n",
       "      <th>Trimestre</th>\n",
       "      <th>Mes</th>\n",
       "    </tr>\n",
       "  </thead>\n",
       "  <tbody>\n",
       "    <tr>\n",
       "      <th>0</th>\n",
       "      <td>yS0TsUzKBQlHQCZZeBrxww</td>\n",
       "      <td>Tortas El Guero</td>\n",
       "      <td>Mexican, Sandwiches, Restaurants</td>\n",
       "      <td>5.0</td>\n",
       "      <td>Hands down best Mexican in Indy! This place al...</td>\n",
       "      <td>0</td>\n",
       "      <td>0</td>\n",
       "      <td>0</td>\n",
       "      <td>2019-03-21</td>\n",
       "      <td>4K_WOyp5edBa9-JtMjxiwQ</td>\n",
       "      <td>Indianapolis</td>\n",
       "      <td>IN</td>\n",
       "      <td>39.824485</td>\n",
       "      <td>-86.270933</td>\n",
       "      <td>3818 N Highschool Rd</td>\n",
       "      <td>2019</td>\n",
       "      <td>1</td>\n",
       "      <td>Marzo</td>\n",
       "    </tr>\n",
       "    <tr>\n",
       "      <th>1</th>\n",
       "      <td>yS0TsUzKBQlHQCZZeBrxww</td>\n",
       "      <td>Tortas El Guero</td>\n",
       "      <td>Mexican, Sandwiches, Restaurants</td>\n",
       "      <td>5.0</td>\n",
       "      <td>After reading all the reviews &amp; hearing great ...</td>\n",
       "      <td>1</td>\n",
       "      <td>0</td>\n",
       "      <td>1</td>\n",
       "      <td>2019-04-20</td>\n",
       "      <td>opsegPYOBbMrULOm7QpkJw</td>\n",
       "      <td>Indianapolis</td>\n",
       "      <td>IN</td>\n",
       "      <td>39.824485</td>\n",
       "      <td>-86.270933</td>\n",
       "      <td>3818 N Highschool Rd</td>\n",
       "      <td>2019</td>\n",
       "      <td>2</td>\n",
       "      <td>Abril</td>\n",
       "    </tr>\n",
       "  </tbody>\n",
       "</table>\n",
       "</div>"
      ],
      "text/plain": [
       "              Business_id             Name                        Categories  \\\n",
       "0  yS0TsUzKBQlHQCZZeBrxww  Tortas El Guero  Mexican, Sandwiches, Restaurants   \n",
       "1  yS0TsUzKBQlHQCZZeBrxww  Tortas El Guero  Mexican, Sandwiches, Restaurants   \n",
       "\n",
       "   Stars                                               Text  Useful  Funny  \\\n",
       "0    5.0  Hands down best Mexican in Indy! This place al...       0      0   \n",
       "1    5.0  After reading all the reviews & hearing great ...       1      0   \n",
       "\n",
       "   Cool        Date                 User_id          City State   Latitude  \\\n",
       "0     0  2019-03-21  4K_WOyp5edBa9-JtMjxiwQ  Indianapolis    IN  39.824485   \n",
       "1     1  2019-04-20  opsegPYOBbMrULOm7QpkJw  Indianapolis    IN  39.824485   \n",
       "\n",
       "   Longitude               Address  Year  Trimestre    Mes  \n",
       "0 -86.270933  3818 N Highschool Rd  2019          1  Marzo  \n",
       "1 -86.270933  3818 N Highschool Rd  2019          2  Abril  "
      ]
     },
     "execution_count": 12,
     "metadata": {},
     "output_type": "execute_result"
    }
   ],
   "source": [
    "# Abrimos el dataset creado\n",
    "df = pd.read_csv('./Yelp_Final.csv')\n",
    "df.head(2)"
   ]
  },
  {
   "cell_type": "code",
   "execution_count": 13,
   "id": "67aa8565",
   "metadata": {},
   "outputs": [
    {
     "data": {
      "text/plain": [
       "FL    26734\n",
       "PA    19289\n",
       "AZ    18724\n",
       "TN    14414\n",
       "IN    14271\n",
       "NV    11806\n",
       "CA    10345\n",
       "MO     8521\n",
       "LA     7577\n",
       "NJ     4086\n",
       "ID     3907\n",
       "DE     1575\n",
       "IL     1273\n",
       "Name: State, dtype: int64"
      ]
     },
     "execution_count": 13,
     "metadata": {},
     "output_type": "execute_result"
    }
   ],
   "source": [
    "df['State'].value_counts()"
   ]
  },
  {
   "cell_type": "markdown",
   "id": "a6b639c1",
   "metadata": {},
   "source": [
    "#### Citando el primer objetivo específico planteado, para la obtención de los datos correspondientes:\n",
    "* Crecer un 2 % en la cantidad de restaurantes de comidas mexicanas por trimestre por estado."
   ]
  },
  {
   "cell_type": "markdown",
   "id": "cf711bb3",
   "metadata": {},
   "source": [
    "#### `Duplicamos la columna State, esta última con el nombre de Cant_Restaurantes aplicando el método sort_values(), para:`\n",
    "* Obtener la cantidad de restaurantes de comidas mexicanas\n",
    "* Configurar datos por trimestre y estado\n",
    "* Generando 1 producto: *`RM_Tri_Estado.csv`* "
   ]
  },
  {
   "cell_type": "code",
   "execution_count": 14,
   "id": "313b9f78",
   "metadata": {},
   "outputs": [
    {
     "data": {
      "text/html": [
       "<div>\n",
       "<style scoped>\n",
       "    .dataframe tbody tr th:only-of-type {\n",
       "        vertical-align: middle;\n",
       "    }\n",
       "\n",
       "    .dataframe tbody tr th {\n",
       "        vertical-align: top;\n",
       "    }\n",
       "\n",
       "    .dataframe thead th {\n",
       "        text-align: right;\n",
       "    }\n",
       "</style>\n",
       "<table border=\"1\" class=\"dataframe\">\n",
       "  <thead>\n",
       "    <tr style=\"text-align: right;\">\n",
       "      <th></th>\n",
       "      <th>Name</th>\n",
       "      <th>Trimestre</th>\n",
       "      <th>Year</th>\n",
       "      <th>State</th>\n",
       "      <th>Cant_Restaurantes</th>\n",
       "    </tr>\n",
       "  </thead>\n",
       "  <tbody>\n",
       "    <tr>\n",
       "      <th>0</th>\n",
       "      <td>Condado Tacos</td>\n",
       "      <td>2</td>\n",
       "      <td>2019</td>\n",
       "      <td>IN</td>\n",
       "      <td>170</td>\n",
       "    </tr>\n",
       "    <tr>\n",
       "      <th>1</th>\n",
       "      <td>Los Agaves</td>\n",
       "      <td>3</td>\n",
       "      <td>2019</td>\n",
       "      <td>CA</td>\n",
       "      <td>149</td>\n",
       "    </tr>\n",
       "    <tr>\n",
       "      <th>2</th>\n",
       "      <td>Condado Tacos</td>\n",
       "      <td>3</td>\n",
       "      <td>2019</td>\n",
       "      <td>IN</td>\n",
       "      <td>142</td>\n",
       "    </tr>\n",
       "    <tr>\n",
       "      <th>3</th>\n",
       "      <td>Capital Tacos</td>\n",
       "      <td>2</td>\n",
       "      <td>2019</td>\n",
       "      <td>FL</td>\n",
       "      <td>132</td>\n",
       "    </tr>\n",
       "    <tr>\n",
       "      <th>4</th>\n",
       "      <td>Los Agaves</td>\n",
       "      <td>3</td>\n",
       "      <td>2020</td>\n",
       "      <td>CA</td>\n",
       "      <td>129</td>\n",
       "    </tr>\n",
       "  </tbody>\n",
       "</table>\n",
       "</div>"
      ],
      "text/plain": [
       "            Name  Trimestre  Year State  Cant_Restaurantes\n",
       "0  Condado Tacos          2  2019    IN                170\n",
       "1     Los Agaves          3  2019    CA                149\n",
       "2  Condado Tacos          3  2019    IN                142\n",
       "3  Capital Tacos          2  2019    FL                132\n",
       "4     Los Agaves          3  2020    CA                129"
      ]
     },
     "execution_count": 14,
     "metadata": {},
     "output_type": "execute_result"
    }
   ],
   "source": [
    "# Restaurantes mexicanos por trimestre y estado\n",
    "df['Cant_Restaurantes'] = df['State']\n",
    "df1 = df[['Name','Trimestre','Year','State','Cant_Restaurantes']].groupby(['Name','Trimestre','Year','State']).count().sort_values(by='Cant_Restaurantes',ascending=False)\n",
    "df1.reset_index(inplace=True)\n",
    "df1.head()"
   ]
  },
  {
   "cell_type": "markdown",
   "id": "6ab3ee5f",
   "metadata": {},
   "source": [
    "#### `Datos generados sin e incluyendo Categories de Restaurantes de comida mexicana`\n",
    "* Insumo para buscar crecer un 2 % en la cantidad de restaurantes de comidas mexicanas por trimestre por estado."
   ]
  },
  {
   "cell_type": "code",
   "execution_count": 15,
   "id": "fdc79974",
   "metadata": {},
   "outputs": [],
   "source": [
    "#df1.to_csv('RM_Tri_Estado.csv',index=False)"
   ]
  },
  {
   "cell_type": "markdown",
   "id": "6a9c88d1",
   "metadata": {},
   "source": [
    "### `Continuamos con la cantidad de restaurantes mexicanos con tres o más estrellas de calificación, que tiene que ver con el siguiente objetivo específico.`"
   ]
  },
  {
   "cell_type": "code",
   "execution_count": 16,
   "id": "53ab96cb",
   "metadata": {},
   "outputs": [
    {
     "data": {
      "text/plain": [
       "State\n",
       "FL       20185\n",
       "PA       14336\n",
       "AZ       14318\n",
       "IN       11394\n",
       "TN       10834\n",
       "NV        8819\n",
       "CA        8568\n",
       "MO        5890\n",
       "LA        5744\n",
       "NJ        2837\n",
       "ID        2571\n",
       "DE        1138\n",
       "IL         848\n",
       "dtype: int64"
      ]
     },
     "execution_count": 16,
     "metadata": {},
     "output_type": "execute_result"
    }
   ],
   "source": [
    "# Citando los datos necesarios para tomar decisiones\n",
    "df[df.Stars.isin([3,4,5])][['State']].value_counts()"
   ]
  },
  {
   "cell_type": "markdown",
   "id": "fbbda132",
   "metadata": {},
   "source": [
    "#### Obteniendo insumos para atender el siguiente objetivo específico planteado:\n",
    "* Crecer un 3 % en las calificaciones iguales o mayores a tres estrellas por trimestre por estado."
   ]
  },
  {
   "cell_type": "markdown",
   "id": "2d2583a6",
   "metadata": {},
   "source": [
    "#### `Duplicamos la columna State, esta última con el nombre de Cant_Restaurantes aplicando el método sort_values(), para:`\n",
    "* Obtener la cantidad de restaurantes de comidas mexicanas con 3,4 y 5 estrellas\n",
    "* Configurar datos por trimestre y estado\n",
    "* Generando 1 producto: *`RM_Tri_Estado_3_4_5_Stars.csv`* "
   ]
  },
  {
   "cell_type": "code",
   "execution_count": 18,
   "id": "c0735a05",
   "metadata": {},
   "outputs": [
    {
     "data": {
      "text/html": [
       "<div>\n",
       "<style scoped>\n",
       "    .dataframe tbody tr th:only-of-type {\n",
       "        vertical-align: middle;\n",
       "    }\n",
       "\n",
       "    .dataframe tbody tr th {\n",
       "        vertical-align: top;\n",
       "    }\n",
       "\n",
       "    .dataframe thead th {\n",
       "        text-align: right;\n",
       "    }\n",
       "</style>\n",
       "<table border=\"1\" class=\"dataframe\">\n",
       "  <thead>\n",
       "    <tr style=\"text-align: right;\">\n",
       "      <th></th>\n",
       "      <th>Name</th>\n",
       "      <th>Trimestre</th>\n",
       "      <th>Year</th>\n",
       "      <th>State</th>\n",
       "      <th>Cant_Restaurantes</th>\n",
       "    </tr>\n",
       "  </thead>\n",
       "  <tbody>\n",
       "    <tr>\n",
       "      <th>0</th>\n",
       "      <td>Los Agaves</td>\n",
       "      <td>3</td>\n",
       "      <td>2019</td>\n",
       "      <td>CA</td>\n",
       "      <td>135</td>\n",
       "    </tr>\n",
       "    <tr>\n",
       "      <th>1</th>\n",
       "      <td>Condado Tacos</td>\n",
       "      <td>2</td>\n",
       "      <td>2019</td>\n",
       "      <td>IN</td>\n",
       "      <td>134</td>\n",
       "    </tr>\n",
       "    <tr>\n",
       "      <th>2</th>\n",
       "      <td>Los Agaves</td>\n",
       "      <td>3</td>\n",
       "      <td>2020</td>\n",
       "      <td>CA</td>\n",
       "      <td>119</td>\n",
       "    </tr>\n",
       "    <tr>\n",
       "      <th>3</th>\n",
       "      <td>Condado Tacos</td>\n",
       "      <td>3</td>\n",
       "      <td>2019</td>\n",
       "      <td>IN</td>\n",
       "      <td>116</td>\n",
       "    </tr>\n",
       "    <tr>\n",
       "      <th>4</th>\n",
       "      <td>Capital Tacos</td>\n",
       "      <td>2</td>\n",
       "      <td>2019</td>\n",
       "      <td>FL</td>\n",
       "      <td>113</td>\n",
       "    </tr>\n",
       "  </tbody>\n",
       "</table>\n",
       "</div>"
      ],
      "text/plain": [
       "            Name  Trimestre  Year State  Cant_Restaurantes\n",
       "0     Los Agaves          3  2019    CA                135\n",
       "1  Condado Tacos          2  2019    IN                134\n",
       "2     Los Agaves          3  2020    CA                119\n",
       "3  Condado Tacos          3  2019    IN                116\n",
       "4  Capital Tacos          2  2019    FL                113"
      ]
     },
     "execution_count": 18,
     "metadata": {},
     "output_type": "execute_result"
    }
   ],
   "source": [
    "# Restaurantes mexicanos por trimestre y estado con 3, 4 y 5 estrellas.\n",
    "df['Cant_Restaurantes'] = df['State']\n",
    "df2 = df[df.Stars.isin([3,4,5])][['Name','Trimestre','Year','State','Cant_Restaurantes']].groupby(['Name','Trimestre','Year','State']).count().sort_values(by='Cant_Restaurantes',ascending=False)\n",
    "df2.reset_index(inplace=True)\n",
    "df2.head()"
   ]
  },
  {
   "cell_type": "markdown",
   "id": "8acad392",
   "metadata": {},
   "source": [
    "#### `Datos generados sin e incluyendo Categories de Restaurantes de comida mexicana con 3 o más estrellas`\n",
    "* Insumo para buscar crecer un 3 % en las calificaciones iguales o mayores a tres estrellas por trimestre por estado."
   ]
  },
  {
   "cell_type": "code",
   "execution_count": 19,
   "id": "5368ee29",
   "metadata": {},
   "outputs": [],
   "source": [
    "#df2.to_csv('RM_Tri_Estado_3_4_5_Stars.csv',index=False)"
   ]
  },
  {
   "cell_type": "markdown",
   "id": "a7da743b",
   "metadata": {},
   "source": [
    "### `Continuamos con la cantidad de restaurantes mexicanos con menos de tres estrellas de calificación, que tiene que ver con el siguiente objetivo específico.`"
   ]
  },
  {
   "cell_type": "code",
   "execution_count": 20,
   "id": "04b5d7fb",
   "metadata": {},
   "outputs": [
    {
     "data": {
      "text/plain": [
       "State\n",
       "FL       6549\n",
       "PA       4953\n",
       "AZ       4406\n",
       "TN       3580\n",
       "NV       2987\n",
       "IN       2877\n",
       "MO       2631\n",
       "LA       1833\n",
       "CA       1777\n",
       "ID       1336\n",
       "NJ       1249\n",
       "DE        437\n",
       "IL        425\n",
       "dtype: int64"
      ]
     },
     "execution_count": 20,
     "metadata": {},
     "output_type": "execute_result"
    }
   ],
   "source": [
    "# Citando los datos necesarios para tomar decisiones\n",
    "df[df.Stars.isin([1,2])][['State']].value_counts()"
   ]
  },
  {
   "cell_type": "markdown",
   "id": "abf67da2",
   "metadata": {},
   "source": [
    "#### Obteniendo insumos para atender el siguiente objetivo específico planteado:\n",
    "* Reducir a un 5 % las calificaciones menores a tres estrellas por trimestre por estado."
   ]
  },
  {
   "cell_type": "markdown",
   "id": "d770a5f5",
   "metadata": {},
   "source": [
    "#### `Duplicamos la columna State, esta última con el nombre de Cant_Restaurantes aplicando el método sort_values(), para:`\n",
    "* Obtener la cantidad de restaurantes de comidas mexicanas con 1 y 2 estrellas\n",
    "* Configurar datos por trimestre y estado\n",
    "* Generando 1 producto: *`RM_Tri_Estado_1_2_Stars.csv`* "
   ]
  },
  {
   "cell_type": "code",
   "execution_count": 21,
   "id": "7d5d5376",
   "metadata": {},
   "outputs": [
    {
     "data": {
      "text/html": [
       "<div>\n",
       "<style scoped>\n",
       "    .dataframe tbody tr th:only-of-type {\n",
       "        vertical-align: middle;\n",
       "    }\n",
       "\n",
       "    .dataframe tbody tr th {\n",
       "        vertical-align: top;\n",
       "    }\n",
       "\n",
       "    .dataframe thead th {\n",
       "        text-align: right;\n",
       "    }\n",
       "</style>\n",
       "<table border=\"1\" class=\"dataframe\">\n",
       "  <thead>\n",
       "    <tr style=\"text-align: right;\">\n",
       "      <th></th>\n",
       "      <th>Name</th>\n",
       "      <th>Trimestre</th>\n",
       "      <th>Year</th>\n",
       "      <th>State</th>\n",
       "      <th>Cant_Restaurantes</th>\n",
       "    </tr>\n",
       "  </thead>\n",
       "  <tbody>\n",
       "    <tr>\n",
       "      <th>0</th>\n",
       "      <td>Chipotle Mexican Grill</td>\n",
       "      <td>2</td>\n",
       "      <td>2021</td>\n",
       "      <td>PA</td>\n",
       "      <td>111</td>\n",
       "    </tr>\n",
       "    <tr>\n",
       "      <th>1</th>\n",
       "      <td>Chipotle Mexican Grill</td>\n",
       "      <td>4</td>\n",
       "      <td>2021</td>\n",
       "      <td>PA</td>\n",
       "      <td>109</td>\n",
       "    </tr>\n",
       "    <tr>\n",
       "      <th>2</th>\n",
       "      <td>Chipotle Mexican Grill</td>\n",
       "      <td>3</td>\n",
       "      <td>2021</td>\n",
       "      <td>PA</td>\n",
       "      <td>91</td>\n",
       "    </tr>\n",
       "    <tr>\n",
       "      <th>3</th>\n",
       "      <td>Chipotle Mexican Grill</td>\n",
       "      <td>3</td>\n",
       "      <td>2019</td>\n",
       "      <td>PA</td>\n",
       "      <td>90</td>\n",
       "    </tr>\n",
       "    <tr>\n",
       "      <th>4</th>\n",
       "      <td>Chipotle Mexican Grill</td>\n",
       "      <td>4</td>\n",
       "      <td>2021</td>\n",
       "      <td>FL</td>\n",
       "      <td>89</td>\n",
       "    </tr>\n",
       "  </tbody>\n",
       "</table>\n",
       "</div>"
      ],
      "text/plain": [
       "                     Name  Trimestre  Year State  Cant_Restaurantes\n",
       "0  Chipotle Mexican Grill          2  2021    PA                111\n",
       "1  Chipotle Mexican Grill          4  2021    PA                109\n",
       "2  Chipotle Mexican Grill          3  2021    PA                 91\n",
       "3  Chipotle Mexican Grill          3  2019    PA                 90\n",
       "4  Chipotle Mexican Grill          4  2021    FL                 89"
      ]
     },
     "execution_count": 21,
     "metadata": {},
     "output_type": "execute_result"
    }
   ],
   "source": [
    "# Restaurantes mexicanos por trimestre y estado con 1 y 2 estrellas.\n",
    "df['Cant_Restaurantes'] = df['State']\n",
    "df3 = df[df.Stars.isin([1,2])][['Name','Trimestre','Year','State','Cant_Restaurantes']].groupby(['Name','Trimestre','Year','State']).count().sort_values(by='Cant_Restaurantes',ascending=False)\n",
    "df3.reset_index(inplace=True)\n",
    "df3.head()"
   ]
  },
  {
   "cell_type": "markdown",
   "id": "28c7e9ac",
   "metadata": {},
   "source": [
    "#### `Datos generados sin e incluyendo Categories de Restaurantes de comida mexicana con 1 y 2 estrellas`\n",
    "* Insumo para buscar reducir a un 5 % las calificaciones menores a tres estrellas por trimestre por estado."
   ]
  },
  {
   "cell_type": "code",
   "execution_count": 22,
   "id": "fccc6202",
   "metadata": {},
   "outputs": [],
   "source": [
    "#df3.to_csv('RM_Tri_Estado_1_2_Stars.csv',index=False)"
   ]
  },
  {
   "cell_type": "markdown",
   "id": "5eec7218",
   "metadata": {},
   "source": [
    "### `Sistema de recomendación:`\n",
    "* Top 5 de mayor calificación de los restaurantes mexicanos de los estados.\n",
    "* Top 5 con mayor calificación de restaurantes mexicanos por estados.\n",
    "* Top 5 con menor calificación de restaurantes mexicanos por estado."
   ]
  },
  {
   "cell_type": "markdown",
   "id": "00a33d83",
   "metadata": {},
   "source": [
    "#### `Top 5 de mayor calificación de los restaurantes mexicanos de los estados.`\n",
    "* Top 5 de restaurantes mexicanos de todos los estados"
   ]
  },
  {
   "cell_type": "code",
   "execution_count": 23,
   "id": "3d029f46",
   "metadata": {},
   "outputs": [
    {
     "data": {
      "text/plain": [
       "FL    13618\n",
       "AZ     9671\n",
       "PA     9114\n",
       "TN     7373\n",
       "IN     7182\n",
       "CA     6233\n",
       "NV     6139\n",
       "MO     3708\n",
       "LA     3637\n",
       "NJ     1821\n",
       "ID     1660\n",
       "DE      708\n",
       "IL      553\n",
       "Name: State, dtype: int64"
      ]
     },
     "execution_count": 23,
     "metadata": {},
     "output_type": "execute_result"
    }
   ],
   "source": [
    "# Citando los datos necesarios para tomar decisiones\n",
    "df[df.Stars==5]['State'].value_counts()"
   ]
  },
  {
   "cell_type": "code",
   "execution_count": 24,
   "id": "1d8c9ed3",
   "metadata": {},
   "outputs": [
    {
     "data": {
      "text/html": [
       "<div>\n",
       "<style scoped>\n",
       "    .dataframe tbody tr th:only-of-type {\n",
       "        vertical-align: middle;\n",
       "    }\n",
       "\n",
       "    .dataframe tbody tr th {\n",
       "        vertical-align: top;\n",
       "    }\n",
       "\n",
       "    .dataframe thead th {\n",
       "        text-align: right;\n",
       "    }\n",
       "</style>\n",
       "<table border=\"1\" class=\"dataframe\">\n",
       "  <thead>\n",
       "    <tr style=\"text-align: right;\">\n",
       "      <th></th>\n",
       "      <th>Name</th>\n",
       "      <th>Stars</th>\n",
       "    </tr>\n",
       "  </thead>\n",
       "  <tbody>\n",
       "    <tr>\n",
       "      <th>0</th>\n",
       "      <td>Tortas El Guero</td>\n",
       "      <td>5.0</td>\n",
       "    </tr>\n",
       "    <tr>\n",
       "      <th>1</th>\n",
       "      <td>Tortas El Guero</td>\n",
       "      <td>5.0</td>\n",
       "    </tr>\n",
       "    <tr>\n",
       "      <th>4</th>\n",
       "      <td>Tortas El Guero</td>\n",
       "      <td>5.0</td>\n",
       "    </tr>\n",
       "    <tr>\n",
       "      <th>5</th>\n",
       "      <td>Tortas El Guero</td>\n",
       "      <td>5.0</td>\n",
       "    </tr>\n",
       "    <tr>\n",
       "      <th>6</th>\n",
       "      <td>Tortas El Guero</td>\n",
       "      <td>5.0</td>\n",
       "    </tr>\n",
       "    <tr>\n",
       "      <th>...</th>\n",
       "      <td>...</td>\n",
       "      <td>...</td>\n",
       "    </tr>\n",
       "    <tr>\n",
       "      <th>142512</th>\n",
       "      <td>Don Cruz Snowballs</td>\n",
       "      <td>5.0</td>\n",
       "    </tr>\n",
       "    <tr>\n",
       "      <th>142514</th>\n",
       "      <td>Don Cruz Snowballs</td>\n",
       "      <td>5.0</td>\n",
       "    </tr>\n",
       "    <tr>\n",
       "      <th>142517</th>\n",
       "      <td>Carniceria Dos Amigos</td>\n",
       "      <td>5.0</td>\n",
       "    </tr>\n",
       "    <tr>\n",
       "      <th>142518</th>\n",
       "      <td>Rasta Taco Catering</td>\n",
       "      <td>5.0</td>\n",
       "    </tr>\n",
       "    <tr>\n",
       "      <th>142521</th>\n",
       "      <td>Taqueria Nueva Vida</td>\n",
       "      <td>5.0</td>\n",
       "    </tr>\n",
       "  </tbody>\n",
       "</table>\n",
       "<p>71417 rows × 2 columns</p>\n",
       "</div>"
      ],
      "text/plain": [
       "                         Name  Stars\n",
       "0             Tortas El Guero    5.0\n",
       "1             Tortas El Guero    5.0\n",
       "4             Tortas El Guero    5.0\n",
       "5             Tortas El Guero    5.0\n",
       "6             Tortas El Guero    5.0\n",
       "...                       ...    ...\n",
       "142512     Don Cruz Snowballs    5.0\n",
       "142514     Don Cruz Snowballs    5.0\n",
       "142517  Carniceria Dos Amigos    5.0\n",
       "142518    Rasta Taco Catering    5.0\n",
       "142521    Taqueria Nueva Vida    5.0\n",
       "\n",
       "[71417 rows x 2 columns]"
      ]
     },
     "execution_count": 24,
     "metadata": {},
     "output_type": "execute_result"
    }
   ],
   "source": [
    "d1 = df[df['Stars']==5][['Name','Stars']]\n",
    "d1"
   ]
  },
  {
   "cell_type": "code",
   "execution_count": 25,
   "id": "2d381b42",
   "metadata": {},
   "outputs": [
    {
     "name": "stdout",
     "output_type": "stream",
     "text": [
      "<class 'pandas.core.frame.DataFrame'>\n",
      "Int64Index: 71417 entries, 0 to 142521\n",
      "Data columns (total 2 columns):\n",
      " #   Column  Non-Null Count  Dtype  \n",
      "---  ------  --------------  -----  \n",
      " 0   Name    71417 non-null  object \n",
      " 1   Stars   71417 non-null  float64\n",
      "dtypes: float64(1), object(1)\n",
      "memory usage: 1.6+ MB\n"
     ]
    }
   ],
   "source": [
    "d1.info()"
   ]
  },
  {
   "cell_type": "code",
   "execution_count": 26,
   "id": "77dc53c3",
   "metadata": {},
   "outputs": [],
   "source": [
    "d1['Stars'] = d1['Stars'].replace(5.0, \"Excelente\")"
   ]
  },
  {
   "cell_type": "code",
   "execution_count": 27,
   "id": "5081dc5b",
   "metadata": {},
   "outputs": [
    {
     "name": "stdout",
     "output_type": "stream",
     "text": [
      "<class 'pandas.core.frame.DataFrame'>\n",
      "Int64Index: 71417 entries, 0 to 142521\n",
      "Data columns (total 2 columns):\n",
      " #   Column  Non-Null Count  Dtype \n",
      "---  ------  --------------  ----- \n",
      " 0   Name    71417 non-null  object\n",
      " 1   Stars   71417 non-null  object\n",
      "dtypes: object(2)\n",
      "memory usage: 1.6+ MB\n"
     ]
    }
   ],
   "source": [
    "d1.info()"
   ]
  },
  {
   "cell_type": "code",
   "execution_count": 57,
   "id": "4fa84bcf",
   "metadata": {},
   "outputs": [
    {
     "data": {
      "text/html": [
       "<div>\n",
       "<style scoped>\n",
       "    .dataframe tbody tr th:only-of-type {\n",
       "        vertical-align: middle;\n",
       "    }\n",
       "\n",
       "    .dataframe tbody tr th {\n",
       "        vertical-align: top;\n",
       "    }\n",
       "\n",
       "    .dataframe thead th {\n",
       "        text-align: right;\n",
       "    }\n",
       "</style>\n",
       "<table border=\"1\" class=\"dataframe\">\n",
       "  <thead>\n",
       "    <tr style=\"text-align: right;\">\n",
       "      <th></th>\n",
       "      <th>Name</th>\n",
       "      <th>Stars</th>\n",
       "    </tr>\n",
       "  </thead>\n",
       "  <tbody>\n",
       "    <tr>\n",
       "      <th>0</th>\n",
       "      <td>Tortas El Guero</td>\n",
       "      <td>Excelente</td>\n",
       "    </tr>\n",
       "    <tr>\n",
       "      <th>1</th>\n",
       "      <td>Tortas El Guero</td>\n",
       "      <td>Excelente</td>\n",
       "    </tr>\n",
       "    <tr>\n",
       "      <th>4</th>\n",
       "      <td>Tortas El Guero</td>\n",
       "      <td>Excelente</td>\n",
       "    </tr>\n",
       "    <tr>\n",
       "      <th>5</th>\n",
       "      <td>Tortas El Guero</td>\n",
       "      <td>Excelente</td>\n",
       "    </tr>\n",
       "    <tr>\n",
       "      <th>6</th>\n",
       "      <td>Tortas El Guero</td>\n",
       "      <td>Excelente</td>\n",
       "    </tr>\n",
       "    <tr>\n",
       "      <th>...</th>\n",
       "      <td>...</td>\n",
       "      <td>...</td>\n",
       "    </tr>\n",
       "    <tr>\n",
       "      <th>38952</th>\n",
       "      <td>Ensenada Street Food</td>\n",
       "      <td>Excelente</td>\n",
       "    </tr>\n",
       "    <tr>\n",
       "      <th>38953</th>\n",
       "      <td>Ensenada Street Food</td>\n",
       "      <td>Excelente</td>\n",
       "    </tr>\n",
       "    <tr>\n",
       "      <th>38954</th>\n",
       "      <td>Ensenada Street Food</td>\n",
       "      <td>Excelente</td>\n",
       "    </tr>\n",
       "    <tr>\n",
       "      <th>38955</th>\n",
       "      <td>Ensenada Street Food</td>\n",
       "      <td>Excelente</td>\n",
       "    </tr>\n",
       "    <tr>\n",
       "      <th>38956</th>\n",
       "      <td>Ensenada Street Food</td>\n",
       "      <td>Excelente</td>\n",
       "    </tr>\n",
       "  </tbody>\n",
       "</table>\n",
       "<p>20000 rows × 2 columns</p>\n",
       "</div>"
      ],
      "text/plain": [
       "                       Name      Stars\n",
       "0           Tortas El Guero  Excelente\n",
       "1           Tortas El Guero  Excelente\n",
       "4           Tortas El Guero  Excelente\n",
       "5           Tortas El Guero  Excelente\n",
       "6           Tortas El Guero  Excelente\n",
       "...                     ...        ...\n",
       "38952  Ensenada Street Food  Excelente\n",
       "38953  Ensenada Street Food  Excelente\n",
       "38954  Ensenada Street Food  Excelente\n",
       "38955  Ensenada Street Food  Excelente\n",
       "38956  Ensenada Street Food  Excelente\n",
       "\n",
       "[20000 rows x 2 columns]"
      ]
     },
     "execution_count": 57,
     "metadata": {},
     "output_type": "execute_result"
    }
   ],
   "source": [
    "d1.head(20000)"
   ]
  },
  {
   "cell_type": "markdown",
   "id": "2d9a21a6",
   "metadata": {},
   "source": [
    "#### `Datos generados para Restaurantes de comida mexicana con 5 estrellas`"
   ]
  },
  {
   "cell_type": "code",
   "execution_count": 58,
   "id": "88f9c1fc",
   "metadata": {},
   "outputs": [],
   "source": [
    "#d1.head(20000).to_csv('Recomendacion_5S.csv',index=False)"
   ]
  },
  {
   "cell_type": "markdown",
   "id": "b57acd25",
   "metadata": {},
   "source": [
    "#### `Top 5 con mayor calificación de restaurantes mexicanos por estados.`\n",
    "* Top 5 de restaurantes mexicanos de cada estado"
   ]
  },
  {
   "cell_type": "code",
   "execution_count": 59,
   "id": "1c241f60",
   "metadata": {},
   "outputs": [
    {
     "data": {
      "text/html": [
       "<div>\n",
       "<style scoped>\n",
       "    .dataframe tbody tr th:only-of-type {\n",
       "        vertical-align: middle;\n",
       "    }\n",
       "\n",
       "    .dataframe tbody tr th {\n",
       "        vertical-align: top;\n",
       "    }\n",
       "\n",
       "    .dataframe thead th {\n",
       "        text-align: right;\n",
       "    }\n",
       "</style>\n",
       "<table border=\"1\" class=\"dataframe\">\n",
       "  <thead>\n",
       "    <tr style=\"text-align: right;\">\n",
       "      <th></th>\n",
       "      <th>State</th>\n",
       "      <th>Name</th>\n",
       "    </tr>\n",
       "  </thead>\n",
       "  <tbody>\n",
       "    <tr>\n",
       "      <th>0</th>\n",
       "      <td>IN</td>\n",
       "      <td>Tortas El Guero</td>\n",
       "    </tr>\n",
       "    <tr>\n",
       "      <th>1</th>\n",
       "      <td>IN</td>\n",
       "      <td>Tortas El Guero</td>\n",
       "    </tr>\n",
       "    <tr>\n",
       "      <th>4</th>\n",
       "      <td>IN</td>\n",
       "      <td>Tortas El Guero</td>\n",
       "    </tr>\n",
       "    <tr>\n",
       "      <th>5</th>\n",
       "      <td>IN</td>\n",
       "      <td>Tortas El Guero</td>\n",
       "    </tr>\n",
       "    <tr>\n",
       "      <th>6</th>\n",
       "      <td>IN</td>\n",
       "      <td>Tortas El Guero</td>\n",
       "    </tr>\n",
       "    <tr>\n",
       "      <th>...</th>\n",
       "      <td>...</td>\n",
       "      <td>...</td>\n",
       "    </tr>\n",
       "    <tr>\n",
       "      <th>38952</th>\n",
       "      <td>AZ</td>\n",
       "      <td>Ensenada Street Food</td>\n",
       "    </tr>\n",
       "    <tr>\n",
       "      <th>38953</th>\n",
       "      <td>AZ</td>\n",
       "      <td>Ensenada Street Food</td>\n",
       "    </tr>\n",
       "    <tr>\n",
       "      <th>38954</th>\n",
       "      <td>AZ</td>\n",
       "      <td>Ensenada Street Food</td>\n",
       "    </tr>\n",
       "    <tr>\n",
       "      <th>38955</th>\n",
       "      <td>AZ</td>\n",
       "      <td>Ensenada Street Food</td>\n",
       "    </tr>\n",
       "    <tr>\n",
       "      <th>38956</th>\n",
       "      <td>AZ</td>\n",
       "      <td>Ensenada Street Food</td>\n",
       "    </tr>\n",
       "  </tbody>\n",
       "</table>\n",
       "<p>20000 rows × 2 columns</p>\n",
       "</div>"
      ],
      "text/plain": [
       "      State                  Name\n",
       "0        IN       Tortas El Guero\n",
       "1        IN       Tortas El Guero\n",
       "4        IN       Tortas El Guero\n",
       "5        IN       Tortas El Guero\n",
       "6        IN       Tortas El Guero\n",
       "...     ...                   ...\n",
       "38952    AZ  Ensenada Street Food\n",
       "38953    AZ  Ensenada Street Food\n",
       "38954    AZ  Ensenada Street Food\n",
       "38955    AZ  Ensenada Street Food\n",
       "38956    AZ  Ensenada Street Food\n",
       "\n",
       "[20000 rows x 2 columns]"
      ]
     },
     "execution_count": 59,
     "metadata": {},
     "output_type": "execute_result"
    }
   ],
   "source": [
    "df2 = df[df.Stars==5][['State','Name']]\n",
    "df2.head(20000)"
   ]
  },
  {
   "cell_type": "markdown",
   "id": "4d5d7a9a",
   "metadata": {},
   "source": [
    "#### `Datos generados para Restaurantes de comida mexicana con 5 estrellas por estado.`"
   ]
  },
  {
   "cell_type": "code",
   "execution_count": 60,
   "id": "803ceffc",
   "metadata": {},
   "outputs": [],
   "source": [
    "#df2.head(20000).to_csv('Recomendacion_5S_estado.csv',index=False)"
   ]
  },
  {
   "cell_type": "markdown",
   "id": "aff1cb8d",
   "metadata": {},
   "source": [
    "#### `Top 5 con menor calificación de restaurantes mexicanos por estado.`"
   ]
  },
  {
   "cell_type": "code",
   "execution_count": 32,
   "id": "0f66142e",
   "metadata": {},
   "outputs": [
    {
     "data": {
      "text/plain": [
       "FL    4427\n",
       "PA    3351\n",
       "AZ    2976\n",
       "TN    2484\n",
       "NV    2112\n",
       "IN    1875\n",
       "MO    1873\n",
       "LA    1211\n",
       "CA    1175\n",
       "ID     968\n",
       "NJ     858\n",
       "IL     305\n",
       "DE     288\n",
       "Name: State, dtype: int64"
      ]
     },
     "execution_count": 32,
     "metadata": {},
     "output_type": "execute_result"
    }
   ],
   "source": [
    "# Citando los datos necesarios para tomar decisiones\n",
    "df[df.Stars==1]['State'].value_counts()"
   ]
  },
  {
   "cell_type": "code",
   "execution_count": 33,
   "id": "58b65cd8",
   "metadata": {},
   "outputs": [
    {
     "data": {
      "text/html": [
       "<div>\n",
       "<style scoped>\n",
       "    .dataframe tbody tr th:only-of-type {\n",
       "        vertical-align: middle;\n",
       "    }\n",
       "\n",
       "    .dataframe tbody tr th {\n",
       "        vertical-align: top;\n",
       "    }\n",
       "\n",
       "    .dataframe thead th {\n",
       "        text-align: right;\n",
       "    }\n",
       "</style>\n",
       "<table border=\"1\" class=\"dataframe\">\n",
       "  <thead>\n",
       "    <tr style=\"text-align: right;\">\n",
       "      <th></th>\n",
       "      <th>State</th>\n",
       "      <th>Name</th>\n",
       "    </tr>\n",
       "  </thead>\n",
       "  <tbody>\n",
       "    <tr>\n",
       "      <th>17</th>\n",
       "      <td>IN</td>\n",
       "      <td>Tortas El Guero</td>\n",
       "    </tr>\n",
       "    <tr>\n",
       "      <th>22</th>\n",
       "      <td>IN</td>\n",
       "      <td>Tortas El Guero</td>\n",
       "    </tr>\n",
       "    <tr>\n",
       "      <th>36</th>\n",
       "      <td>IN</td>\n",
       "      <td>Tortas El Guero</td>\n",
       "    </tr>\n",
       "    <tr>\n",
       "      <th>64</th>\n",
       "      <td>FL</td>\n",
       "      <td>GUAC Tequila &amp; Tacos</td>\n",
       "    </tr>\n",
       "    <tr>\n",
       "      <th>66</th>\n",
       "      <td>FL</td>\n",
       "      <td>GUAC Tequila &amp; Tacos</td>\n",
       "    </tr>\n",
       "    <tr>\n",
       "      <th>...</th>\n",
       "      <td>...</td>\n",
       "      <td>...</td>\n",
       "    </tr>\n",
       "    <tr>\n",
       "      <th>142505</th>\n",
       "      <td>NJ</td>\n",
       "      <td>Nories Lunch Box</td>\n",
       "    </tr>\n",
       "    <tr>\n",
       "      <th>142506</th>\n",
       "      <td>NJ</td>\n",
       "      <td>Nories Lunch Box</td>\n",
       "    </tr>\n",
       "    <tr>\n",
       "      <th>142507</th>\n",
       "      <td>NJ</td>\n",
       "      <td>Nories Lunch Box</td>\n",
       "    </tr>\n",
       "    <tr>\n",
       "      <th>142508</th>\n",
       "      <td>NJ</td>\n",
       "      <td>Nories Lunch Box</td>\n",
       "    </tr>\n",
       "    <tr>\n",
       "      <th>142519</th>\n",
       "      <td>TN</td>\n",
       "      <td>Taqueria El Pollito</td>\n",
       "    </tr>\n",
       "  </tbody>\n",
       "</table>\n",
       "<p>23903 rows × 2 columns</p>\n",
       "</div>"
      ],
      "text/plain": [
       "       State                  Name\n",
       "17        IN       Tortas El Guero\n",
       "22        IN       Tortas El Guero\n",
       "36        IN       Tortas El Guero\n",
       "64        FL  GUAC Tequila & Tacos\n",
       "66        FL  GUAC Tequila & Tacos\n",
       "...      ...                   ...\n",
       "142505    NJ      Nories Lunch Box\n",
       "142506    NJ      Nories Lunch Box\n",
       "142507    NJ      Nories Lunch Box\n",
       "142508    NJ      Nories Lunch Box\n",
       "142519    TN   Taqueria El Pollito\n",
       "\n",
       "[23903 rows x 2 columns]"
      ]
     },
     "execution_count": 33,
     "metadata": {},
     "output_type": "execute_result"
    }
   ],
   "source": [
    "df3 = df[df.Stars==1][['State','Name']]\n",
    "df3"
   ]
  },
  {
   "cell_type": "code",
   "execution_count": 34,
   "id": "471d6034",
   "metadata": {},
   "outputs": [],
   "source": [
    "#df3.to_csv('Recomendacion_1S_estado.csv',index=False)"
   ]
  },
  {
   "cell_type": "code",
   "execution_count": 1,
   "id": "78efaf70",
   "metadata": {},
   "outputs": [],
   "source": [
    "import pandas as pd\n",
    "from sklearn.feature_extraction.text import TfidfVectorizer\n",
    "from sklearn.metrics.pairwise import linear_kernel\n",
    "def recomendacion_5Stars(Restaurant):\n",
    "    '''Ingresas un nombre de restaurante mexicano basado en 5 estrellas y te recomienda \n",
    "    los similares en una lista'''\n",
    "    f = pd.read_csv('Recomendacion_5S.csv')\n",
    "    tfidf = TfidfVectorizer(stop_words = 'english')\n",
    "    f['Stars'] = f['Stars'].fillna('')\n",
    "    tfidf_matriz = tfidf.fit_transform(f['Stars']) \n",
    "    coseno_sim = linear_kernel(tfidf_matriz,tfidf_matriz)\n",
    "    indices = pd.Series(f.index, index = f['Name'])\n",
    "    idx = indices[Restaurant]\n",
    "    simil = list(enumerate(coseno_sim[idx]))\n",
    "    simil = sorted(simil, key = lambda x: x[0],reverse=True)\n",
    "    simil = simil[1:11]\n",
    "    movie_index = [f[0] for f in simil]\n",
    "    lista = f['Name'].iloc[movie_index].to_list()[:5]\n",
    "    return {'lista recomendada de restaurantes mexicanos de 5 estrellas en USA': lista}\n",
    "def recomendacion_5S_State(Estado):\n",
    "    '''Ingresas el nombre de cualquiera de los siguientes estados:'FL','PA','AZ','TN','NV','IN','MO',\n",
    "    'LA','CA','ID','NJ','IL',DE' y te recomienda restaurantes mexicanos de 5 estrellas'''\n",
    "    g = pd.read_csv('Recomendacion_5S_estado.csv')\n",
    "    tfidf = TfidfVectorizer(stop_words = 'english')\n",
    "    g['State'] = g['State'].fillna('')\n",
    "    tfidf_matriz = tfidf.fit_transform(g['State']) \n",
    "    coseno_sim = linear_kernel(tfidf_matriz,tfidf_matriz)\n",
    "    indices = pd.Series(g.index, index = g['State'])\n",
    "    idx = indices[Estado]\n",
    "    simil = list(enumerate(coseno_sim[idx]))\n",
    "    simil = sorted(simil, key = lambda x: x[0],reverse=True)\n",
    "    simil = simil[1:11]\n",
    "    movie_index = [g[0] for g in simil]\n",
    "    lista = g['Name'].iloc[movie_index].to_list()[:5]\n",
    "    return {'lista recomendada de restaurantes mexicanos de 5 estrellas en USA por estado': lista}\n",
    "def recomendacion_1S_State(Estado):\n",
    "    '''Ingresas el nombre de cualquiera de los siguientes estados:'FL','PA','AZ','TN','NV','IN','MO',\n",
    "    'LA','CA','ID','NJ','IL',DE' y te recomienda restaurantes mexicanos de 1 estrella'''\n",
    "    h = pd.read_csv('Recomendacion_1S_estado.csv')\n",
    "    tfidf = TfidfVectorizer(stop_words = 'english')\n",
    "    h['State'] = h['State'].fillna('')\n",
    "    tfidf_matriz = tfidf.fit_transform(h['State']) \n",
    "    coseno_sim = linear_kernel(tfidf_matriz,tfidf_matriz)\n",
    "    indices = pd.Series(h.index, index = h['State'])\n",
    "    idx = indices[Estado]\n",
    "    simil = list(enumerate(coseno_sim[idx]))\n",
    "    simil = sorted(simil, key = lambda x: x[0],reverse=True)\n",
    "    simil = simil[1:11]\n",
    "    movie_index = [h[0] for h in simil]\n",
    "    lista = h['Name'].iloc[movie_index].to_list()[:5]\n",
    "    return {'lista recomendada de restaurantes mexicanos de 1 estrella en USA por estado': lista}"
   ]
  },
  {
   "cell_type": "code",
   "execution_count": 2,
   "id": "c728b2a5",
   "metadata": {},
   "outputs": [
    {
     "name": "stdout",
     "output_type": "stream",
     "text": [
      "{'lista recomendada de restaurantes mexicanos de 5 estrellas en USA': ['GUAC Tequila & Tacos', 'GUAC Tequila & Tacos', 'GUAC Tequila & Tacos', 'GUAC Tequila & Tacos', 'GUAC Tequila & Tacos']}\n",
      "{'lista recomendada de restaurantes mexicanos de 5 estrellas en USA por estado': ['Vicentas Mexican Cuisine', 'Vicentas Mexican Cuisine', 'Vicentas Mexican Cuisine', 'Vicentas Mexican Cuisine', 'Vicentas Mexican Cuisine']}\n",
      "{'lista recomendada de restaurantes mexicanos de 1 estrella en USA por estado': ['QDOBA Mexican Eats', 'Taco Bell', 'Taco Bell', 'Taco Bell', 'Taco Bell']}\n"
     ]
    }
   ],
   "source": [
    "print(recomendacion_5Stars('Tortas El Guero'))\n",
    "print(recomendacion_5S_State('AZ'))\n",
    "print(recomendacion_1S_State('FL'))"
   ]
  },
  {
   "cell_type": "code",
   "execution_count": null,
   "id": "1292c976",
   "metadata": {},
   "outputs": [],
   "source": []
  }
 ],
 "metadata": {
  "kernelspec": {
   "display_name": "Python 3 (ipykernel)",
   "language": "python",
   "name": "python3"
  },
  "language_info": {
   "codemirror_mode": {
    "name": "ipython",
    "version": 3
   },
   "file_extension": ".py",
   "mimetype": "text/x-python",
   "name": "python",
   "nbconvert_exporter": "python",
   "pygments_lexer": "ipython3",
   "version": "3.11.3"
  }
 },
 "nbformat": 4,
 "nbformat_minor": 5
}
